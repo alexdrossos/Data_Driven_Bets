{
 "cells": [
  {
   "cell_type": "code",
   "execution_count": 45,
   "metadata": {},
   "outputs": [],
   "source": [
    "# Import necessary packages for notebook\n",
    "import json\n",
    "import pandas as pd\n",
    "from pyspark.sql.functions import explode, split\n",
    "from pyspark.sql import SparkSession, Row\n",
    "from pyspark.sql.types import StructType, StructField, StringType, IntegerType, TimestampType\n",
    "import warnings"
   ]
  },
  {
   "cell_type": "code",
   "execution_count": 50,
   "metadata": {
    "collapsed": true,
    "jupyter": {
     "outputs_hidden": true
    }
   },
   "outputs": [],
   "source": [
    "spark = SparkSession \\\n",
    "        .builder \\\n",
    "        .appName(\"ExtractEventsJob\") \\\n",
    "        .getOrCreate()"
   ]
  },
  {
   "cell_type": "code",
   "execution_count": 58,
   "metadata": {},
   "outputs": [
    {
     "data": {
      "text/plain": [
       "Column<b'_1'>"
      ]
     },
     "execution_count": 58,
     "metadata": {},
     "output_type": "execute_result"
    }
   ],
   "source": [
    "games = raw_games.select(raw_games.value.cast('string'))\n",
    "extracted_games = games.rdd.map(lambda x: json.loads(x.value)).toDF()"
   ]
  },
  {
   "cell_type": "code",
   "execution_count": 51,
   "metadata": {
    "collapsed": true,
    "jupyter": {
     "outputs_hidden": true
    }
   },
   "outputs": [],
   "source": [
    "raw_games = spark \\\n",
    "        .read \\\n",
    "        .format(\"kafka\") \\\n",
    "        .option(\"kafka.bootstrap.servers\", \"kafka:29092\") \\\n",
    "        .option(\"subscribe\", \"games\") \\\n",
    "        .option(\"startingOffsets\", \"earliest\") \\\n",
    "        .option(\"endingOffsets\", \"latest\") \\\n",
    "        .load()"
   ]
  },
  {
   "cell_type": "code",
   "execution_count": 52,
   "metadata": {},
   "outputs": [],
   "source": [
    "new_games = raw_games \\\n",
    "        .select(raw_games.value.cast('string').alias('raw'),\n",
    "                raw_games.timestamp.cast('string')) \\\n",
    "        # .filter(is_purchase('raw'))"
   ]
  },
  {
   "cell_type": "code",
   "execution_count": 44,
   "metadata": {},
   "outputs": [
    {
     "name": "stdout",
     "output_type": "stream",
     "text": [
      "root\n",
      " |-- _1: map (nullable = true)\n",
      " |    |-- key: string\n",
      " |    |-- value: long (valueContainsNull = true)\n",
      " |-- _2: map (nullable = true)\n",
      " |    |-- key: string\n",
      " |    |-- value: long (valueContainsNull = true)\n",
      " |-- _3: map (nullable = true)\n",
      " |    |-- key: string\n",
      " |    |-- value: long (valueContainsNull = true)\n",
      " |-- _4: map (nullable = true)\n",
      " |    |-- key: string\n",
      " |    |-- value: long (valueContainsNull = true)\n",
      " |-- _5: map (nullable = true)\n",
      " |    |-- key: string\n",
      " |    |-- value: long (valueContainsNull = true)\n",
      " |-- _6: map (nullable = true)\n",
      " |    |-- key: string\n",
      " |    |-- value: long (valueContainsNull = true)\n",
      " |-- _7: map (nullable = true)\n",
      " |    |-- key: string\n",
      " |    |-- value: long (valueContainsNull = true)\n",
      " |-- _8: map (nullable = true)\n",
      " |    |-- key: string\n",
      " |    |-- value: long (valueContainsNull = true)\n",
      " |-- _9: map (nullable = true)\n",
      " |    |-- key: string\n",
      " |    |-- value: long (valueContainsNull = true)\n",
      " |-- _10: map (nullable = true)\n",
      " |    |-- key: string\n",
      " |    |-- value: long (valueContainsNull = true)\n",
      " |-- _11: map (nullable = true)\n",
      " |    |-- key: string\n",
      " |    |-- value: long (valueContainsNull = true)\n",
      " |-- _12: map (nullable = true)\n",
      " |    |-- key: string\n",
      " |    |-- value: long (valueContainsNull = true)\n",
      " |-- _13: map (nullable = true)\n",
      " |    |-- key: string\n",
      " |    |-- value: long (valueContainsNull = true)\n",
      "\n",
      "+--------------------+--------------------+--------------------+--------------------+--------------------+--------------------+--------------------+--------------------+--------------------+--------------------+--------------------+--------------------+--------------------+\n",
      "|                  _1|                  _2|                  _3|                  _4|                  _5|                  _6|                  _7|                  _8|                  _9|                 _10|                 _11|                 _12|                 _13|\n",
      "+--------------------+--------------------+--------------------+--------------------+--------------------+--------------------+--------------------+--------------------+--------------------+--------------------+--------------------+--------------------+--------------------+\n",
      "|Map(PointSpread -...|Map(PointSpread -...|Map(PointSpread -...|Map(PointSpread -...|Map(PointSpread -...|Map(PointSpread -...|Map(PointSpread -...|Map(PointSpread -...|Map(PointSpread -...|Map(PointSpread -...|Map(PointSpread -...|Map(PointSpread -...|Map(PointSpread -...|\n",
      "+--------------------+--------------------+--------------------+--------------------+--------------------+--------------------+--------------------+--------------------+--------------------+--------------------+--------------------+--------------------+--------------------+\n",
      "\n"
     ]
    }
   ],
   "source": [
    "extracted_games = new_games \\\n",
    "        .rdd \\\n",
    "        .map(lambda r: json.loads(r.raw)) \\\n",
    "        .toDF()\n",
    "extracted_games.printSchema()\n",
    "extracted_games.show()"
   ]
  },
  {
   "cell_type": "code",
   "execution_count": 14,
   "metadata": {},
   "outputs": [
    {
     "data": {
      "text/plain": [
       "DataFrame[value: string]"
      ]
     },
     "execution_count": 14,
     "metadata": {},
     "output_type": "execute_result"
    }
   ],
   "source": [
    "# Set variavble to pull a key and value as as string\n",
    "games = raw_games.select(raw_games.value.cast('string'))\n",
    "games"
   ]
  },
  {
   "cell_type": "code",
   "execution_count": 31,
   "metadata": {
    "collapsed": true,
    "jupyter": {
     "outputs_hidden": true
    }
   },
   "outputs": [],
   "source": [
    "a = pd.read_csv(a, sep=\",\")"
   ]
  },
  {
   "cell_type": "code",
   "execution_count": 36,
   "metadata": {},
   "outputs": [
    {
     "data": {
      "text/plain": [
       "'[{\"TimeRemaining\": null, \"HomeScoreQuarter1\": 7, \"HomeScoreQuarter2\": 11, \"HomeScoreQuarter3\": 0, \"HomeScoreQuarter4\": 7, \"Distance\": \"Scrambled\", \"AwayTeamID\": 5, \"UnderPayout\": -180, \"OverUnder\": 74.1, \"Has4thQuarterStarted\": true, \"AwayTeam\": \"CAR\", \"ForecastTempLow\": 51, \"PointSpread\": -2.4, \"GeoLong\": null, \"Closed\": true, \"QuarterDescription\": \"Final\", \"YardLineTerritory\": null, \"Channel\": \"FOX\", \"Status\": \"Final\", \"Week\": 8, \"Down\": null, \"ScoreID\": 17790, \"Has2ndQuarterStarted\": true, \"GameKey\": \"202110802\", \"Has3rdQuarterStarted\": true, \"ForecastWindSpeed\": 7, \"AwayScoreOvertime\": 0, \"Season\": 2021, \"PointSpreadHomeTeamMoneyLine\": -186, \"SeasonType\": 1, \"ForecastDescription\": \"Clear Sky\", \"GlobalGameID\": 17790, \"NeutralVenue\": false, \"Has1stQuarterStarted\": true, \"ForecastWindChill\": 51, \"HomeRotationNumber\": 400, \"GlobalAwayTeamID\": 5, \"Date\": \"2021-10-31T13:00:00\", \"ForecastTempHigh\": 53, \"OverPayout\": -169, \"IsOvertime\": false, \"Day\": \"2021-10-31T00:00:00\", \"AwayRotationNumber\": 399, \"RedZone\": null, \"Possession\": null, \"AwayTimeouts\": null, \"HomeTeamID\": 2, \"IsInProgress\": false, \"HomeTimeouts\": null, \"HomeScoreOvertime\": 0, \"DateTime\": \"2021-10-31T13:00:00\", \"GameEndDateTime\": \"2021-10-31T15:59:24\", \"DownAndDistance\": null, \"HasStarted\": true, \"AwayScoreQuarter4\": 11, \"AwayScoreQuarter1\": 7, \"AwayScoreQuarter3\": 7, \"AwayScoreQuarter2\": 15, \"AwayTeamMoneyLine\": 169, \"Quarter\": \"F\", \"StadiumDetails\": {\"City\": \"Atlanta\", \"StadiumID\": 45, \"Capacity\": 71000, \"Name\": \"Mercedes-Benz Stadium\", \"PlayingSurface\": \"Artificial\", \"Country\": \"USA\", \"GeoLong\": -84.401, \"State\": \"GA\", \"GeoLat\": 33.755556, \"Type\": \"RetractableDome\"}, \"IsOver\": true, \"RefereeID\": 1, \"StadiumID\": 45, \"GeoLat\": null, \"DateTimeUTC\": \"2021-10-31T17:00:00\", \"AwayScore\": 30, \"HomeTeam\": \"ATL\", \"PointSpreadAwayTeamMoneyLine\": -164, \"LastPlay\": \"Scrambled\", \"LastUpdated\": \"2021-11-05T12:55:27\", \"HomeScore\": 20, \"Canceled\": false, \"HomeTeamMoneyLine\": -202, \"YardLine\": null, \"GlobalHomeTeamID\": 2}, {\"TimeRemaining\": null, \"HomeScoreQuarter1\": 7, \"HomeScoreQuarter2\": 0, \"HomeScoreQuarter3\": 11, \"HomeScoreQuarter4\": 25, \"Distance\": \"Scrambled\", \"AwayTeamID\": 19, \"UnderPayout\": -178, \"OverUnder\": 76.4, \"Has4thQuarterStarted\": true, \"AwayTeam\": \"MIA\", \"ForecastTempLow\": 46, \"PointSpread\": -22.9, \"GeoLong\": null, \"Closed\": true, \"QuarterDescription\": \"Final\", \"YardLineTerritory\": null, \"Channel\": \"CBS\", \"Status\": \"Final\", \"Week\": 8, \"Down\": null, \"ScoreID\": 17791, \"Has2ndQuarterStarted\": true, \"GameKey\": \"202110804\", \"Has3rdQuarterStarted\": true, \"ForecastWindSpeed\": 16, \"AwayScoreOvertime\": 0, \"Season\": 2021, \"PointSpreadHomeTeamMoneyLine\": -173, \"SeasonType\": 1, \"ForecastDescription\": \"Light Rain\", \"GlobalGameID\": 17791, \"NeutralVenue\": false, \"Has1stQuarterStarted\": true, \"ForecastWindChill\": 50, \"HomeRotationNumber\": 397, \"GlobalAwayTeamID\": 19, \"Date\": \"2021-10-31T13:00:00\", \"ForecastTempHigh\": 50, \"OverPayout\": -172, \"IsOvertime\": false, \"Day\": \"2021-10-31T00:00:00\", \"AwayRotationNumber\": 396, \"RedZone\": null, \"Possession\": null, \"AwayTimeouts\": null, \"HomeTeamID\": 4, \"IsInProgress\": false, \"HomeTimeouts\": null, \"HomeScoreOvertime\": 0, \"DateTime\": \"2021-10-31T13:00:00\", \"GameEndDateTime\": \"2021-10-31T16:15:36\", \"DownAndDistance\": null, \"HasStarted\": true, \"AwayScoreQuarter4\": 13, \"AwayScoreQuarter1\": 0, \"AwayScoreQuarter3\": 0, \"AwayScoreQuarter2\": 7, \"AwayTeamMoneyLine\": 1032, \"Quarter\": \"F\", \"StadiumDetails\": {\"City\": \"Orchard Park\", \"StadiumID\": 1, \"Capacity\": 71608, \"Name\": \"Highmark Stadium\", \"PlayingSurface\": \"Artificial\", \"Country\": \"USA\", \"GeoLong\": -78.786837, \"State\": \"NY\", \"GeoLat\": 42.773758, \"Type\": \"Outdoor\"}, \"IsOver\": true, \"RefereeID\": 101, \"StadiumID\": 1, \"GeoLat\": null, \"DateTimeUTC\": \"2021-10-31T17:00:00\", \"AwayScore\": 17, \"HomeTeam\": \"BUF\", \"PointSpreadAwayTeamMoneyLine\": -173, \"LastPlay\": \"Scrambled\", \"LastUpdated\": \"2021-11-05T12:55:38\", \"HomeScore\": 41, \"Canceled\": false, \"HomeTeamMoneyLine\": -1592, \"YardLine\": null, \"GlobalHomeTeamID\": 4}, {\"TimeRemaining\": null, \"HomeScoreQuarter1\": 7, \"HomeScoreQuarter2\": 16, \"HomeScoreQuarter3\": 7, \"HomeScoreQuarter4\": 15, \"Distance\": \"Scrambled\", \"AwayTeamID\": 31, \"UnderPayout\": -178, \"OverUnder\": 63.0, \"Has4thQuarterStarted\": true, \"AwayTeam\": \"SF\", \"ForecastTempLow\": 42, \"PointSpread\": 9.9, \"GeoLong\": null, \"Closed\": true, \"QuarterDescription\": \"Final\", \"YardLineTerritory\": null, \"Channel\": \"FOX\", \"Status\": \"Final\", \"Week\": 8, \"Down\": null, \"ScoreID\": 17792, \"Has2ndQuarterStarted\": true, \"GameKey\": \"202110806\", \"Has3rdQuarterStarted\": true, \"ForecastWindSpeed\": 12, \"AwayScoreOvertime\": 0, \"Season\": 2021, \"PointSpreadHomeTeamMoneyLine\": -169, \"SeasonType\": 1, \"ForecastDescription\": \"Clear Sky\", \"GlobalGameID\": 17792, \"NeutralVenue\": false, \"Has1stQuarterStarted\": true, \"ForecastWindChill\": 36, \"HomeRotationNumber\": 419, \"GlobalAwayTeamID\": 31, \"Date\": \"2021-10-31T13:00:00\", \"ForecastTempHigh\": 45, \"OverPayout\": -170, \"IsOvertime\": false, \"Day\": \"2021-10-31T00:00:00\", \"AwayRotationNumber\": 418, \"RedZone\": null, \"Possession\": null, \"AwayTimeouts\": null, \"HomeTeamID\": 6, \"IsInProgress\": false, \"HomeTimeouts\": null, \"HomeScoreOvertime\": 0, \"DateTime\": \"2021-10-31T13:00:00\", \"GameEndDateTime\": \"2021-10-31T16:05:58\", \"DownAndDistance\": null, \"HasStarted\": true, \"AwayScoreQuarter4\": 28, \"AwayScoreQuarter1\": 7, \"AwayScoreQuarter3\": 15, \"AwayScoreQuarter2\": 15, \"AwayTeamMoneyLine\": -325, \"Quarter\": \"F\", \"StadiumDetails\": {\"City\": \"Chicago\", \"StadiumID\": 20, \"Capacity\": 61500, \"Name\": \"Soldier Field\", \"PlayingSurface\": \"Grass\", \"Country\": \"USA\", \"GeoLong\": -87.616699, \"State\": \"IL\", \"GeoLat\": 41.86232, \"Type\": \"Outdoor\"}, \"IsOver\": true, \"RefereeID\": 24, \"StadiumID\": 20, \"GeoLat\": null, \"DateTimeUTC\": \"2021-10-31T17:00:00\", \"AwayScore\": 52, \"HomeTeam\": \"CHI\", \"PointSpreadAwayTeamMoneyLine\": -175, \"LastPlay\": \"Scrambled\", \"LastUpdated\": \"2021-11-05T12:55:49\", \"HomeScore\": 35, \"Canceled\": false, \"HomeTeamMoneyLine\": 271, \"YardLine\": null, \"GlobalHomeTeamID\": 6}, {\"TimeRemaining\": null, \"HomeScoreQuarter1\": 7, \"HomeScoreQuarter2\": 0, \"HomeScoreQuarter3\": 11, \"HomeScoreQuarter4\": 0, \"Distance\": \"Scrambled\", \"AwayTeamID\": 28, \"UnderPayout\": -173, \"OverUnder\": 67.8, \"Has4thQuarterStarted\": true, \"AwayTeam\": \"PIT\", \"ForecastTempLow\": 50, \"PointSpread\": -8.7, \"GeoLong\": null, \"Closed\": true, \"QuarterDescription\": \"Final\", \"YardLineTerritory\": null, \"Channel\": \"CBS\", \"Status\": \"Final\", \"Week\": 8, \"Down\": null, \"ScoreID\": 17793, \"Has2ndQuarterStarted\": true, \"GameKey\": \"202110808\", \"Has3rdQuarterStarted\": true, \"ForecastWindSpeed\": 18, \"AwayScoreOvertime\": 0, \"Season\": 2021, \"PointSpreadHomeTeamMoneyLine\": -170, \"SeasonType\": 1, \"ForecastDescription\": \"Overcast Clouds\", \"GlobalGameID\": 17793, \"NeutralVenue\": false, \"Has1stQuarterStarted\": true, \"ForecastWindChill\": 44, \"HomeRotationNumber\": 416, \"GlobalAwayTeamID\": 28, \"Date\": \"2021-10-31T13:00:00\", \"ForecastTempHigh\": 50, \"OverPayout\": -173, \"IsOvertime\": false, \"Day\": \"2021-10-31T00:00:00\", \"AwayRotationNumber\": 414, \"RedZone\": null, \"Possession\": null, \"AwayTimeouts\": null, \"HomeTeamID\": 8, \"IsInProgress\": false, \"HomeTimeouts\": null, \"HomeScoreOvertime\": 0, \"DateTime\": \"2021-10-31T13:00:00\", \"GameEndDateTime\": \"2021-10-31T16:04:26\", \"DownAndDistance\": null, \"HasStarted\": true, \"AwayScoreQuarter4\": 15, \"AwayScoreQuarter1\": 0, \"AwayScoreQuarter3\": 15, \"AwayScoreQuarter2\": 7, \"AwayTeamMoneyLine\": 282, \"Quarter\": \"F\", \"StadiumDetails\": {\"City\": \"Cleveland\", \"StadiumID\": 6, \"Capacity\": 67431, \"Name\": \"FirstEnergy Stadium\", \"PlayingSurface\": \"Grass\", \"Country\": \"USA\", \"GeoLong\": -81.699444, \"State\": \"OH\", \"GeoLat\": 41.506111, \"Type\": \"Outdoor\"}, \"IsOver\": true, \"RefereeID\": 51, \"StadiumID\": 6, \"GeoLat\": null, \"DateTimeUTC\": \"2021-10-31T17:00:00\", \"AwayScore\": 24, \"HomeTeam\": \"CLE\", \"PointSpreadAwayTeamMoneyLine\": -175, \"LastPlay\": \"Scrambled\", \"LastUpdated\": \"2021-11-05T12:55:59\", \"HomeScore\": 16, \"Canceled\": false, \"HomeTeamMoneyLine\": -344, \"YardLine\": null, \"GlobalHomeTeamID\": 8}, {\"TimeRemaining\": null, \"HomeScoreQuarter1\": 0, \"HomeScoreQuarter2\": 0, \"HomeScoreQuarter3\": 0, \"HomeScoreQuarter4\": 15, \"Distance\": \"Scrambled\", \"AwayTeamID\": 26, \"UnderPayout\": -178, \"OverUnder\": 76.4, \"Has4thQuarterStarted\": true, \"AwayTeam\": \"PHI\", \"ForecastTempLow\": 45, \"PointSpread\": 8.7, \"GeoLong\": null, \"Closed\": true, \"QuarterDescription\": \"Final\", \"YardLineTerritory\": null, \"Channel\": \"FOX\", \"Status\": \"Final\", \"Week\": 8, \"Down\": null, \"ScoreID\": 17794, \"Has2ndQuarterStarted\": true, \"GameKey\": \"202110811\", \"Has3rdQuarterStarted\": true, \"ForecastWindSpeed\": 9, \"AwayScoreOvertime\": 0, \"Season\": 2021, \"PointSpreadHomeTeamMoneyLine\": -177, \"SeasonType\": 1, \"ForecastDescription\": \"Scattered Clouds\", \"GlobalGameID\": 17794, \"NeutralVenue\": false, \"Has1stQuarterStarted\": true, \"ForecastWindChill\": 40, \"HomeRotationNumber\": 403, \"GlobalAwayTeamID\": 26, \"Date\": \"2021-10-31T13:00:00\", \"ForecastTempHigh\": 46, \"OverPayout\": -170, \"IsOvertime\": false, \"Day\": \"2021-10-31T00:00:00\", \"AwayRotationNumber\": 402, \"RedZone\": null, \"Possession\": null, \"AwayTimeouts\": null, \"HomeTeamID\": 11, \"IsInProgress\": false, \"HomeTimeouts\": null, \"HomeScoreOvertime\": 0, \"DateTime\": \"2021-10-31T13:00:00\", \"GameEndDateTime\": \"2021-10-31T15:52:30\", \"DownAndDistance\": null, \"HasStarted\": true, \"AwayScoreQuarter4\": 15, \"AwayScoreQuarter1\": 11, \"AwayScoreQuarter3\": 33, \"AwayScoreQuarter2\": 16, \"AwayTeamMoneyLine\": -274, \"Quarter\": \"F\", \"StadiumDetails\": {\"City\": \"Detroit\", \"StadiumID\": 21, \"Capacity\": 65000, \"Name\": \"Ford Field\", \"PlayingSurface\": \"Artificial\", \"Country\": \"USA\", \"GeoLong\": -83.045556, \"State\": \"MI\", \"GeoLat\": 42.340021, \"Type\": \"Dome\"}, \"IsOver\": true, \"RefereeID\": 28, \"StadiumID\": 21, \"GeoLat\": null, \"DateTimeUTC\": \"2021-10-31T17:00:00\", \"AwayScore\": 69, \"HomeTeam\": \"DET\", \"PointSpreadAwayTeamMoneyLine\": -167, \"LastPlay\": \"Scrambled\", \"LastUpdated\": \"2021-11-05T12:56:13\", \"HomeScore\": 15, \"Canceled\": false, \"HomeTeamMoneyLine\": 232, \"YardLine\": null, \"GlobalHomeTeamID\": 11}, {\"TimeRemaining\": null, \"HomeScoreQuarter1\": 22, \"HomeScoreQuarter2\": 7, \"HomeScoreQuarter3\": 11, \"HomeScoreQuarter4\": 11, \"Distance\": \"Scrambled\", \"AwayTeamID\": 34, \"UnderPayout\": -173, \"OverUnder\": 80.4, \"Has4thQuarterStarted\": true, \"AwayTeam\": \"TEN\", \"ForecastTempLow\": 44, \"PointSpread\": -4.7, \"GeoLong\": null, \"Closed\": true, \"QuarterDescription\": \"Final/OT\", \"YardLineTerritory\": null, \"Channel\": \"CBS\", \"Status\": \"F/OT\", \"Week\": 8, \"Down\": null, \"ScoreID\": 17795, \"Has2ndQuarterStarted\": true, \"GameKey\": \"202110814\", \"Has3rdQuarterStarted\": true, \"ForecastWindSpeed\": 7, \"AwayScoreOvertime\": 7, \"Season\": 2021, \"PointSpreadHomeTeamMoneyLine\": -165, \"SeasonType\": 1, \"ForecastDescription\": \"Clear Sky\", \"GlobalGameID\": 17795, \"NeutralVenue\": false, \"Has1stQuarterStarted\": true, \"ForecastWindChill\": 40, \"HomeRotationNumber\": 407, \"GlobalAwayTeamID\": 34, \"Date\": \"2021-10-31T13:00:00\", \"ForecastTempHigh\": 45, \"OverPayout\": -173, \"IsOvertime\": true, \"Day\": \"2021-10-31T00:00:00\", \"AwayRotationNumber\": 405, \"RedZone\": null, \"Possession\": null, \"AwayTimeouts\": null, \"HomeTeamID\": 14, \"IsInProgress\": false, \"HomeTimeouts\": null, \"HomeScoreOvertime\": 0, \"DateTime\": \"2021-10-31T13:00:00\", \"GameEndDateTime\": \"2021-10-31T16:36:56\", \"DownAndDistance\": null, \"HasStarted\": true, \"AwayScoreQuarter4\": 16, \"AwayScoreQuarter1\": 0, \"AwayScoreQuarter3\": 11, \"AwayScoreQuarter2\": 22, \"AwayTeamMoneyLine\": 206, \"Quarter\": \"F/OT\", \"StadiumDetails\": {\"City\": \"Indianapolis\", \"StadiumID\": 9, \"Capacity\": 67000, \"Name\": \"Lucas Oil Stadium\", \"PlayingSurface\": \"Artificial\", \"Country\": \"USA\", \"GeoLong\": -86.163806, \"State\": \"IN\", \"GeoLat\": 39.760056, \"Type\": \"RetractableDome\"}, \"IsOver\": true, \"RefereeID\": 23, \"StadiumID\": 9, \"GeoLat\": null, \"DateTimeUTC\": \"2021-10-31T17:00:00\", \"AwayScore\": 54, \"HomeTeam\": \"IND\", \"PointSpreadAwayTeamMoneyLine\": -180, \"LastPlay\": \"Scrambled\", \"LastUpdated\": \"2021-11-05T12:56:31\", \"HomeScore\": 49, \"Canceled\": false, \"HomeTeamMoneyLine\": -244, \"YardLine\": null, \"GlobalHomeTeamID\": 14}, {\"TimeRemaining\": null, \"HomeScoreQuarter1\": 11, \"HomeScoreQuarter2\": 11, \"HomeScoreQuarter3\": 7, \"HomeScoreQuarter4\": 27, \"Distance\": \"Scrambled\", \"AwayTeamID\": 7, \"UnderPayout\": -177, \"OverUnder\": 67.8, \"Has4thQuarterStarted\": true, \"AwayTeam\": \"CIN\", \"ForecastTempLow\": 55, \"PointSpread\": 18.1, \"GeoLong\": null, \"Closed\": true, \"QuarterDescription\": \"Final\", \"YardLineTerritory\": null, \"Channel\": \"CBS\", \"Status\": \"Final\", \"Week\": 8, \"Down\": null, \"ScoreID\": 17796, \"Has2ndQuarterStarted\": true, \"GameKey\": \"202110824\", \"Has3rdQuarterStarted\": true, \"ForecastWindSpeed\": 8, \"AwayScoreOvertime\": 0, \"Season\": 2021, \"PointSpreadHomeTeamMoneyLine\": -173, \"SeasonType\": 1, \"ForecastDescription\": \"Few Clouds\", \"GlobalGameID\": 17796, \"NeutralVenue\": false, \"Has1stQuarterStarted\": true, \"ForecastWindChill\": 55, \"HomeRotationNumber\": 413, \"GlobalAwayTeamID\": 7, \"Date\": \"2021-10-31T13:00:00\", \"ForecastTempHigh\": 55, \"OverPayout\": -172, \"IsOvertime\": false, \"Day\": \"2021-10-31T00:00:00\", \"AwayRotationNumber\": 411, \"RedZone\": null, \"Possession\": null, \"AwayTimeouts\": null, \"HomeTeamID\": 24, \"IsInProgress\": false, \"HomeTimeouts\": null, \"HomeScoreOvertime\": 0, \"DateTime\": \"2021-10-31T13:00:00\", \"GameEndDateTime\": \"2021-10-31T16:21:09\", \"DownAndDistance\": null, \"HasStarted\": true, \"AwayScoreQuarter4\": 11, \"AwayScoreQuarter1\": 0, \"AwayScoreQuarter3\": 11, \"AwayScoreQuarter2\": 27, \"AwayTeamMoneyLine\": -895, \"Quarter\": \"F\", \"StadiumDetails\": {\"City\": \"East Rutherford\", \"StadiumID\": 3, \"Capacity\": 82500, \"Name\": \"MetLife Stadium\", \"PlayingSurface\": \"Artificial\", \"Country\": \"USA\", \"GeoLong\": -74.074361, \"State\": \"NJ\", \"GeoLat\": 40.813528, \"Type\": \"Outdoor\"}, \"IsOver\": true, \"RefereeID\": 119, \"StadiumID\": 3, \"GeoLat\": null, \"DateTimeUTC\": \"2021-10-31T17:00:00\", \"AwayScore\": 49, \"HomeTeam\": \"NYJ\", \"PointSpreadAwayTeamMoneyLine\": -172, \"LastPlay\": \"Scrambled\", \"LastUpdated\": \"2021-11-05T12:56:49\", \"HomeScore\": 54, \"Canceled\": false, \"HomeTeamMoneyLine\": 662, \"YardLine\": null, \"GlobalHomeTeamID\": 24}, {\"TimeRemaining\": null, \"HomeScoreQuarter1\": 0, \"HomeScoreQuarter2\": 0, \"HomeScoreQuarter3\": 0, \"HomeScoreQuarter4\": 35, \"Distance\": \"Scrambled\", \"AwayTeamID\": 32, \"UnderPayout\": -173, \"OverUnder\": 74.1, \"Has4thQuarterStarted\": true, \"AwayTeam\": \"LAR\", \"ForecastTempLow\": 63, \"PointSpread\": 26.0, \"GeoLong\": null, \"Closed\": true, \"QuarterDescription\": \"Final\", \"YardLineTerritory\": null, \"Channel\": \"FOX\", \"Status\": \"Final\", \"Week\": 8, \"Down\": null, \"ScoreID\": 17797, \"Has2ndQuarterStarted\": true, \"GameKey\": \"202110813\", \"Has3rdQuarterStarted\": true, \"ForecastWindSpeed\": 4, \"AwayScoreOvertime\": 0, \"Season\": 2021, \"PointSpreadHomeTeamMoneyLine\": -177, \"SeasonType\": 1, \"ForecastDescription\": \"Clear Sky\", \"GlobalGameID\": 17797, \"NeutralVenue\": false, \"Has1stQuarterStarted\": true, \"ForecastWindChill\": 63, \"HomeRotationNumber\": 410, \"GlobalAwayTeamID\": 32, \"Date\": \"2021-10-31T13:00:00\", \"ForecastTempHigh\": 65, \"OverPayout\": -173, \"IsOvertime\": false, \"Day\": \"2021-10-31T00:00:00\", \"AwayRotationNumber\": 408, \"RedZone\": null, \"Possession\": null, \"AwayTimeouts\": null, \"HomeTeamID\": 13, \"IsInProgress\": false, \"HomeTimeouts\": null, \"HomeScoreOvertime\": 0, \"DateTime\": \"2021-10-31T13:00:00\", \"GameEndDateTime\": \"2021-10-31T15:58:24\", \"DownAndDistance\": null, \"HasStarted\": true, \"AwayScoreQuarter4\": 0, \"AwayScoreQuarter1\": 11, \"AwayScoreQuarter3\": 22, \"AwayScoreQuarter2\": 27, \"AwayTeamMoneyLine\": -2060, \"Quarter\": \"F\", \"StadiumDetails\": {\"City\": \"Houston\", \"StadiumID\": 11, \"Capacity\": 72220, \"Name\": \"NRG Stadium\", \"PlayingSurface\": \"Artificial\", \"Country\": \"USA\", \"GeoLong\": -95.410833, \"State\": \"TX\", \"GeoLat\": 29.684722, \"Type\": \"RetractableDome\"}, \"IsOver\": true, \"RefereeID\": 66, \"StadiumID\": 11, \"GeoLat\": null, \"DateTimeUTC\": \"2021-10-31T17:00:00\", \"AwayScore\": 60, \"HomeTeam\": \"HOU\", \"PointSpreadAwayTeamMoneyLine\": -173, \"LastPlay\": \"Scrambled\", \"LastUpdated\": \"2021-11-05T12:57:09\", \"HomeScore\": 35, \"Canceled\": false, \"HomeTeamMoneyLine\": 1266, \"YardLine\": null, \"GlobalHomeTeamID\": 13}, {\"TimeRemaining\": null, \"HomeScoreQuarter1\": 11, \"HomeScoreQuarter2\": 11, \"HomeScoreQuarter3\": 7, \"HomeScoreQuarter4\": 11, \"Distance\": \"Scrambled\", \"AwayTeamID\": 21, \"UnderPayout\": -178, \"OverUnder\": 79.6, \"Has4thQuarterStarted\": true, \"AwayTeam\": \"NE\", \"ForecastTempLow\": 60, \"PointSpread\": -6.3, \"GeoLong\": null, \"Closed\": true, \"QuarterDescription\": \"Final\", \"YardLineTerritory\": null, \"Channel\": \"CBS\", \"Status\": \"Final\", \"Week\": 8, \"Down\": null, \"ScoreID\": 17798, \"Has2ndQuarterStarted\": true, \"GameKey\": \"202110829\", \"Has3rdQuarterStarted\": true, \"ForecastWindSpeed\": 5, \"AwayScoreOvertime\": 0, \"Season\": 2021, \"PointSpreadHomeTeamMoneyLine\": -170, \"SeasonType\": 1, \"ForecastDescription\": \"Overcast Clouds\", \"GlobalGameID\": 17798, \"NeutralVenue\": false, \"Has1stQuarterStarted\": true, \"ForecastWindChill\": 60, \"HomeRotationNumber\": 426, \"GlobalAwayTeamID\": 21, \"Date\": \"2021-10-31T16:05:00\", \"ForecastTempHigh\": 62, \"OverPayout\": -172, \"IsOvertime\": false, \"Day\": \"2021-10-31T00:00:00\", \"AwayRotationNumber\": 424, \"RedZone\": null, \"Possession\": null, \"AwayTimeouts\": null, \"HomeTeamID\": 29, \"IsInProgress\": false, \"HomeTimeouts\": null, \"HomeScoreOvertime\": 0, \"DateTime\": \"2021-10-31T16:05:00\", \"GameEndDateTime\": \"2021-10-31T19:14:25\", \"DownAndDistance\": null, \"HasStarted\": true, \"AwayScoreQuarter4\": 17, \"AwayScoreQuarter1\": 11, \"AwayScoreQuarter3\": 7, \"AwayScoreQuarter2\": 15, \"AwayTeamMoneyLine\": 244, \"Quarter\": \"F\", \"StadiumDetails\": {\"City\": \"Inglewood\", \"StadiumID\": 54, \"Capacity\": 70240, \"Name\": \"SoFi Stadium\", \"PlayingSurface\": \"Artificial\", \"Country\": \"USA\", \"GeoLong\": -118.3392, \"State\": \"CA\", \"GeoLat\": 33.95345, \"Type\": \"Dome\"}, \"IsOver\": true, \"RefereeID\": 110, \"StadiumID\": 54, \"GeoLat\": null, \"DateTimeUTC\": \"2021-10-31T20:05:00\", \"AwayScore\": 43, \"HomeTeam\": \"LAC\", \"PointSpreadAwayTeamMoneyLine\": -178, \"LastPlay\": \"Scrambled\", \"LastUpdated\": \"2021-11-05T15:55:38\", \"HomeScore\": 38, \"Canceled\": false, \"HomeTeamMoneyLine\": -293, \"YardLine\": null, \"GlobalHomeTeamID\": 29}, {\"TimeRemaining\": null, \"HomeScoreQuarter1\": 11, \"HomeScoreQuarter2\": 16, \"HomeScoreQuarter3\": 11, \"HomeScoreQuarter4\": 11, \"Distance\": \"Scrambled\", \"AwayTeamID\": 15, \"UnderPayout\": -169, \"OverUnder\": 69.3, \"Has4thQuarterStarted\": true, \"AwayTeam\": \"JAX\", \"ForecastTempLow\": 44, \"PointSpread\": -6.3, \"GeoLong\": null, \"Closed\": true, \"QuarterDescription\": \"Final\", \"YardLineTerritory\": null, \"Channel\": \"CBS\", \"Status\": \"Final\", \"Week\": 8, \"Down\": null, \"ScoreID\": 17799, \"Has2ndQuarterStarted\": true, \"GameKey\": \"202110830\", \"Has3rdQuarterStarted\": true, \"ForecastWindSpeed\": 2, \"AwayScoreOvertime\": 0, \"Season\": 2021, \"PointSpreadHomeTeamMoneyLine\": -173, \"SeasonType\": 1, \"ForecastDescription\": \"Clear Sky\", \"GlobalGameID\": 17799, \"NeutralVenue\": false, \"Has1stQuarterStarted\": true, \"ForecastWindChill\": 44, \"HomeRotationNumber\": 422, \"GlobalAwayTeamID\": 15, \"Date\": \"2021-10-31T16:05:00\", \"ForecastTempHigh\": 44, \"OverPayout\": -180, \"IsOvertime\": false, \"Day\": \"2021-10-31T00:00:00\", \"AwayRotationNumber\": 421, \"RedZone\": null, \"Possession\": null, \"AwayTimeouts\": null, \"HomeTeamID\": 30, \"IsInProgress\": false, \"HomeTimeouts\": null, \"HomeScoreOvertime\": 0, \"DateTime\": \"2021-10-31T16:05:00\", \"GameEndDateTime\": \"2021-10-31T19:02:45\", \"DownAndDistance\": null, \"HasStarted\": true, \"AwayScoreQuarter4\": 11, \"AwayScoreQuarter1\": 0, \"AwayScoreQuarter3\": 0, \"AwayScoreQuarter2\": 0, \"AwayTeamMoneyLine\": 258, \"Quarter\": \"F\", \"StadiumDetails\": {\"City\": \"Seattle\", \"StadiumID\": 31, \"Capacity\": 68740, \"Name\": \"Lumen Field\", \"PlayingSurface\": \"Artificial\", \"Country\": \"USA\", \"GeoLong\": -122.331625, \"State\": \"WA\", \"GeoLat\": 47.5952, \"Type\": \"Outdoor\"}, \"IsOver\": true, \"RefereeID\": 47, \"StadiumID\": 31, \"GeoLat\": null, \"DateTimeUTC\": \"2021-10-31T20:05:00\", \"AwayScore\": 11, \"HomeTeam\": \"SEA\", \"PointSpreadAwayTeamMoneyLine\": -173, \"LastPlay\": \"Scrambled\", \"LastUpdated\": \"2021-11-05T15:55:50\", \"HomeScore\": 49, \"Canceled\": false, \"HomeTeamMoneyLine\": -307, \"YardLine\": null, \"GlobalHomeTeamID\": 30}, {\"TimeRemaining\": null, \"HomeScoreQuarter1\": 0, \"HomeScoreQuarter2\": 16, \"HomeScoreQuarter3\": 0, \"HomeScoreQuarter4\": 11, \"Distance\": \"Scrambled\", \"AwayTeamID\": 35, \"UnderPayout\": -178, \"OverUnder\": 70.9, \"Has4thQuarterStarted\": true, \"AwayTeam\": \"WAS\", \"ForecastTempLow\": 41, \"PointSpread\": -6.3, \"GeoLong\": null, \"Closed\": true, \"QuarterDescription\": \"Final\", \"YardLineTerritory\": null, \"Channel\": \"FOX\", \"Status\": \"Final\", \"Week\": 8, \"Down\": null, \"ScoreID\": 17800, \"Has2ndQuarterStarted\": true, \"GameKey\": \"202110810\", \"Has3rdQuarterStarted\": true, \"ForecastWindSpeed\": 2, \"AwayScoreOvertime\": 0, \"Season\": 2021, \"PointSpreadHomeTeamMoneyLine\": -169, \"SeasonType\": 1, \"ForecastDescription\": \"Overcast Clouds\", \"GlobalGameID\": 17800, \"NeutralVenue\": false, \"Has1stQuarterStarted\": true, \"ForecastWindChill\": 41, \"HomeRotationNumber\": 429, \"GlobalAwayTeamID\": 35, \"Date\": \"2021-10-31T16:25:00\", \"ForecastTempHigh\": 42, \"OverPayout\": -170, \"IsOvertime\": false, \"Day\": \"2021-10-31T00:00:00\", \"AwayRotationNumber\": 427, \"RedZone\": null, \"Possession\": null, \"AwayTimeouts\": null, \"HomeTeamID\": 10, \"IsInProgress\": false, \"HomeTimeouts\": null, \"HomeScoreOvertime\": 0, \"DateTime\": \"2021-10-31T16:25:00\", \"GameEndDateTime\": \"2021-10-31T19:21:54\", \"DownAndDistance\": null, \"HasStarted\": true, \"AwayScoreQuarter4\": 0, \"AwayScoreQuarter1\": 0, \"AwayScoreQuarter3\": 11, \"AwayScoreQuarter2\": 7, \"AwayTeamMoneyLine\": 251, \"Quarter\": \"F\", \"StadiumDetails\": {\"City\": \"Denver\", \"StadiumID\": 13, \"Capacity\": 76125, \"Name\": \"Empower Field at Mile High\", \"PlayingSurface\": \"Grass\", \"Country\": \"USA\", \"GeoLong\": -105.020097, \"State\": \"CO\", \"GeoLat\": 39.743889, \"Type\": \"Outdoor\"}, \"IsOver\": true, \"RefereeID\": 53, \"StadiumID\": 13, \"GeoLat\": null, \"DateTimeUTC\": \"2021-10-31T20:25:00\", \"AwayScore\": 16, \"HomeTeam\": \"DEN\", \"PointSpreadAwayTeamMoneyLine\": -175, \"LastPlay\": \"Scrambled\", \"LastUpdated\": \"2021-11-05T16:15:30\", \"HomeScore\": 27, \"Canceled\": false, \"HomeTeamMoneyLine\": -301, \"YardLine\": null, \"GlobalHomeTeamID\": 10}, {\"TimeRemaining\": null, \"HomeScoreQuarter1\": 11, \"HomeScoreQuarter2\": 14, \"HomeScoreQuarter3\": 11, \"HomeScoreQuarter4\": 20, \"Distance\": \"Scrambled\", \"AwayTeamID\": 33, \"UnderPayout\": -178, \"OverUnder\": 76.4, \"Has4thQuarterStarted\": true, \"AwayTeam\": \"TB\", \"ForecastTempLow\": 63, \"PointSpread\": 9.9, \"GeoLong\": null, \"Closed\": true, \"QuarterDescription\": \"Final\", \"YardLineTerritory\": null, \"Channel\": \"FOX\", \"Status\": \"Final\", \"Week\": 8, \"Down\": null, \"ScoreID\": 17801, \"Has2ndQuarterStarted\": true, \"GameKey\": \"202110822\", \"Has3rdQuarterStarted\": true, \"ForecastWindSpeed\": 5, \"AwayScoreOvertime\": 0, \"Season\": 2021, \"PointSpreadHomeTeamMoneyLine\": -173, \"SeasonType\": 1, \"ForecastDescription\": \"Clear Sky\", \"GlobalGameID\": 17801, \"NeutralVenue\": false, \"Has1stQuarterStarted\": true, \"ForecastWindChill\": 63, \"HomeRotationNumber\": 432, \"GlobalAwayTeamID\": 33, \"Date\": \"2021-10-31T16:25:00\", \"ForecastTempHigh\": 63, \"OverPayout\": -170, \"IsOvertime\": false, \"Day\": \"2021-10-31T00:00:00\", \"AwayRotationNumber\": 430, \"RedZone\": null, \"Possession\": null, \"AwayTimeouts\": null, \"HomeTeamID\": 22, \"IsInProgress\": false, \"HomeTimeouts\": null, \"HomeScoreOvertime\": 0, \"DateTime\": \"2021-10-31T16:25:00\", \"GameEndDateTime\": \"2021-10-31T19:35:26\", \"DownAndDistance\": null, \"HasStarted\": true, \"AwayScoreQuarter4\": 15, \"AwayScoreQuarter1\": 11, \"AwayScoreQuarter3\": 22, \"AwayScoreQuarter2\": 0, \"AwayTeamMoneyLine\": -314, \"Quarter\": \"F\", \"StadiumDetails\": {\"City\": \"New Orleans\", \"StadiumID\": 27, \"Capacity\": 73208, \"Name\": \"Caesars Superdome\", \"PlayingSurface\": \"Artificial\", \"Country\": \"USA\", \"GeoLong\": -90.081111, \"State\": \"LA\", \"GeoLat\": 29.950833, \"Type\": \"Dome\"}, \"IsOver\": true, \"RefereeID\": 10, \"StadiumID\": 27, \"GeoLat\": null, \"DateTimeUTC\": \"2021-10-31T20:25:00\", \"AwayScore\": 43, \"HomeTeam\": \"NO\", \"PointSpreadAwayTeamMoneyLine\": -177, \"LastPlay\": \"Scrambled\", \"LastUpdated\": \"2021-11-05T16:15:43\", \"HomeScore\": 57, \"Canceled\": false, \"HomeTeamMoneyLine\": 263, \"YardLine\": null, \"GlobalHomeTeamID\": 22}, {\"TimeRemaining\": null, \"HomeScoreQuarter1\": 11, \"HomeScoreQuarter2\": 7, \"HomeScoreQuarter3\": 7, \"HomeScoreQuarter4\": 7, \"Distance\": \"Scrambled\", \"AwayTeamID\": 9, \"UnderPayout\": -178, \"OverUnder\": 78.0, \"Has4thQuarterStarted\": true, \"AwayTeam\": \"DAL\", \"ForecastTempLow\": 37, \"PointSpread\": -7.1, \"GeoLong\": null, \"Closed\": true, \"QuarterDescription\": \"Final\", \"YardLineTerritory\": null, \"Channel\": \"NBC\", \"Status\": \"Final\", \"Week\": 8, \"Down\": null, \"ScoreID\": 17802, \"Has2ndQuarterStarted\": true, \"GameKey\": \"202110820\", \"Has3rdQuarterStarted\": true, \"ForecastWindSpeed\": 8, \"AwayScoreOvertime\": 0, \"Season\": 2021, \"PointSpreadHomeTeamMoneyLine\": -175, \"SeasonType\": 1, \"ForecastDescription\": \"Clear Sky\", \"GlobalGameID\": 17802, \"NeutralVenue\": false, \"Has1stQuarterStarted\": true, \"ForecastWindChill\": 31, \"HomeRotationNumber\": 435, \"GlobalAwayTeamID\": 9, \"Date\": \"2021-10-31T20:20:00\", \"ForecastTempHigh\": 38, \"OverPayout\": -170, \"IsOvertime\": false, \"Day\": \"2021-10-31T00:00:00\", \"AwayRotationNumber\": 433, \"RedZone\": null, \"Possession\": null, \"AwayTimeouts\": null, \"HomeTeamID\": 20, \"IsInProgress\": false, \"HomeTimeouts\": null, \"HomeScoreOvertime\": 0, \"DateTime\": \"2021-10-31T20:20:00\", \"GameEndDateTime\": \"2021-10-31T23:34:04\", \"DownAndDistance\": null, \"HasStarted\": true, \"AwayScoreQuarter4\": 11, \"AwayScoreQuarter1\": 0, \"AwayScoreQuarter3\": 16, \"AwayScoreQuarter2\": 7, \"AwayTeamMoneyLine\": 282, \"Quarter\": \"F\", \"StadiumDetails\": {\"City\": \"Minneapolis\", \"StadiumID\": 42, \"Capacity\": 66655, \"Name\": \"U.S. Bank Stadium\", \"PlayingSurface\": \"Artificial\", \"Country\": \"USA\", \"GeoLong\": -93.258, \"State\": \"MN\", \"GeoLat\": 44.974288, \"Type\": \"Dome\"}, \"IsOver\": true, \"RefereeID\": 76, \"StadiumID\": 42, \"GeoLat\": null, \"DateTimeUTC\": \"2021-11-01T00:20:00\", \"AwayScore\": 32, \"HomeTeam\": \"MIN\", \"PointSpreadAwayTeamMoneyLine\": -173, \"LastPlay\": \"Scrambled\", \"LastUpdated\": \"2021-11-05T20:15:31\", \"HomeScore\": 25, \"Canceled\": false, \"HomeTeamMoneyLine\": -339, \"YardLine\": null, \"GlobalHomeTeamID\": 20}]'"
      ]
     },
     "execution_count": 36,
     "metadata": {},
     "output_type": "execute_result"
    }
   ],
   "source": [
    "a"
   ]
  },
  {
   "cell_type": "code",
   "execution_count": 41,
   "metadata": {
    "collapsed": true,
    "jupyter": {
     "outputs_hidden": true
    }
   },
   "outputs": [],
   "source": [
    "# Adjust schema to create table for variables related to our research questions\n",
    "final_schema = StructType([StructField('AwayTeam', StringType(), True),\n",
    "                     StructField('HomeTeam', StringType(), True),\n",
    "                     StructField('Channel', StringType(), True)])"
   ]
  },
  {
   "cell_type": "code",
   "execution_count": 64,
   "metadata": {
    "collapsed": true,
    "jupyter": {
     "outputs_hidden": true
    }
   },
   "outputs": [],
   "source": [
    "extracted_games = games.rdd.map(lambda x: json.loads(x.value)).toDF()"
   ]
  },
  {
   "cell_type": "code",
   "execution_count": null,
   "metadata": {
    "collapsed": true,
    "jupyter": {
     "outputs_hidden": true
    }
   },
   "outputs": [],
   "source": [
    "extracted_games = games.rdd.map(lambda x: json.loads(x.value)).toDF(schema = final_schema)"
   ]
  },
  {
   "cell_type": "code",
   "execution_count": 67,
   "metadata": {},
   "outputs": [
    {
     "name": "stdout",
     "output_type": "stream",
     "text": [
      "+--------------------+--------------------+--------------------+--------------------+--------------------+--------------------+--------------------+--------------------+--------------------+--------------------+--------------------+--------------------+--------------------+\n",
      "|                  _1|                  _2|                  _3|                  _4|                  _5|                  _6|                  _7|                  _8|                  _9|                 _10|                 _11|                 _12|                 _13|\n",
      "+--------------------+--------------------+--------------------+--------------------+--------------------+--------------------+--------------------+--------------------+--------------------+--------------------+--------------------+--------------------+--------------------+\n",
      "|Map(PointSpread -...|Map(PointSpread -...|Map(PointSpread -...|Map(PointSpread -...|Map(PointSpread -...|Map(PointSpread -...|Map(PointSpread -...|Map(PointSpread -...|Map(PointSpread -...|Map(PointSpread -...|Map(PointSpread -...|Map(PointSpread -...|Map(PointSpread -...|\n",
      "+--------------------+--------------------+--------------------+--------------------+--------------------+--------------------+--------------------+--------------------+--------------------+--------------------+--------------------+--------------------+--------------------+\n",
      "\n"
     ]
    }
   ],
   "source": [
    "extracted_games.show()"
   ]
  },
  {
   "cell_type": "code",
   "execution_count": null,
   "metadata": {
    "collapsed": true,
    "jupyter": {
     "outputs_hidden": true
    }
   },
   "outputs": [],
   "source": []
  }
 ],
 "metadata": {
  "environment": {
   "name": "tf2-gpu.2-3.m78",
   "type": "gcloud",
   "uri": "gcr.io/deeplearning-platform-release/tf2-gpu.2-3:m78"
  },
  "kernelspec": {
   "display_name": "Python 3",
   "language": "python",
   "name": "python3"
  },
  "language_info": {
   "codemirror_mode": {
    "name": "ipython",
    "version": 3
   },
   "file_extension": ".py",
   "mimetype": "text/x-python",
   "name": "python",
   "nbconvert_exporter": "python",
   "pygments_lexer": "ipython3",
   "version": "3.7.10"
  }
 },
 "nbformat": 4,
 "nbformat_minor": 4
}
