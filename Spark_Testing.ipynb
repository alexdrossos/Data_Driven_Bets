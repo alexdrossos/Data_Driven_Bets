{
 "cells": [
  {
   "cell_type": "code",
   "execution_count": 29,
   "metadata": {
    "collapsed": true
   },
   "outputs": [],
   "source": [
    "# Import necessary packages for notebook\n",
    "import json\n",
    "import pandas as pd\n",
    "from pyspark.sql.functions import explode, split\n",
    "from pyspark.sql import SparkSession, Row\n",
    "from pyspark.sql.types import StructType, StructField, StringType, FloatType, IntegerType, TimestampType\n",
    "import warnings"
   ]
  },
  {
   "cell_type": "code",
   "execution_count": 13,
   "metadata": {
    "collapsed": true
   },
   "outputs": [],
   "source": [
    "spark = SparkSession \\\n",
    "        .builder \\\n",
    "        .appName(\"ExtractEventsJob\") \\\n",
    "        .getOrCreate()"
   ]
  },
  {
   "cell_type": "code",
   "execution_count": 14,
   "metadata": {
    "collapsed": true
   },
   "outputs": [],
   "source": [
    "raw_games = spark \\\n",
    "        .read \\\n",
    "        .format(\"kafka\") \\\n",
    "        .option(\"kafka.bootstrap.servers\", \"kafka:29092\") \\\n",
    "        .option(\"subscribe\", \"games\") \\\n",
    "        .option(\"startingOffsets\", \"earliest\") \\\n",
    "        .option(\"endingOffsets\", \"latest\") \\\n",
    "        .load()"
   ]
  },
  {
   "cell_type": "code",
   "execution_count": 15,
   "metadata": {
    "collapsed": true
   },
   "outputs": [],
   "source": [
    "games = raw_games.select(raw_games.value.cast('string'))\n",
    "\n",
    "# final_schema = StructType([StructField('GameKey', StringType(), True),StructField('AwayTeam', StringType(), True),StructField('HomeTeam', StringType(), True)])\n",
    "\n",
    "\n",
    "games_df = games.rdd.map(lambda x: json.loads(x.value)).toDF(schema=final_schema)"
   ]
  },
  {
   "cell_type": "code",
   "execution_count": 48,
   "metadata": {},
   "outputs": [],
   "source": [
    "final_schema = StructType([StructField('GameKey', StringType(), True),\n",
    "                     StructField('Week', StringType(), True),\n",
    "                     StructField('AwayTeam', StringType(), True),\n",
    "                     StructField('AwayScore', IntegerType(), True),\n",
    "                     StructField('HomeTeam', StringType(), True),\n",
    "                     StructField('HomeScore', IntegerType(), True),\n",
    "                     StructField('PointSpread', FloatType(), True),\n",
    "                     StructField('OverUnder', FloatType(), True),\n",
    "                     StructField('AwayTeamMoneyLine', IntegerType(), True),\n",
    "                     StructField('HomeTeamMoneyLine', IntegerType(), True)])"
   ]
  },
  {
   "cell_type": "code",
   "execution_count": 49,
   "metadata": {
    "collapsed": true
   },
   "outputs": [],
   "source": [
    "games_df = games.rdd.map(lambda x: json.loads(x.value)).toDF(schema=final_schema)"
   ]
  },
  {
   "cell_type": "code",
   "execution_count": 50,
   "metadata": {},
   "outputs": [
    {
     "name": "stdout",
     "output_type": "stream",
     "text": [
      "+---------+----+--------+---------+--------+---------+-----------+---------+-----------------+-----------------+\n",
      "|  GameKey|Week|AwayTeam|AwayScore|HomeTeam|HomeScore|PointSpread|OverUnder|AwayTeamMoneyLine|HomeTeamMoneyLine|\n",
      "+---------+----+--------+---------+--------+---------+-----------+---------+-----------------+-----------------+\n",
      "|202110802|   8|     CAR|       30|     ATL|       20|       -2.4|     74.1|              169|             -202|\n",
      "|202110804|   8|     MIA|       17|     BUF|       41|      -22.9|     76.4|             1032|            -1592|\n",
      "|202110806|   8|      SF|       52|     CHI|       35|        9.9|     63.0|             -325|              271|\n",
      "|202110808|   8|     PIT|       24|     CLE|       16|       -8.7|     67.8|              282|             -344|\n",
      "|202110811|   8|     PHI|       69|     DET|       15|        8.7|     76.4|             -274|              232|\n",
      "|202110814|   8|     TEN|       54|     IND|       49|       -4.7|     80.4|              206|             -244|\n",
      "|202110824|   8|     CIN|       49|     NYJ|       54|       18.1|     67.8|             -895|              662|\n",
      "|202110813|   8|     LAR|       60|     HOU|       35|       26.0|     74.1|            -2060|             1266|\n",
      "|202110829|   8|      NE|       43|     LAC|       38|       -6.3|     79.6|              244|             -293|\n",
      "|202110830|   8|     JAX|       11|     SEA|       49|       -6.3|     69.3|              258|             -307|\n",
      "|202110810|   8|     WAS|       16|     DEN|       27|       -6.3|     70.9|              251|             -301|\n",
      "|202110822|   8|      TB|       43|      NO|       57|        9.9|     76.4|             -314|              263|\n",
      "|202110820|   8|     DAL|       32|     MIN|       25|       -7.1|     78.0|              282|             -339|\n",
      "|202110802|   8|     CAR|       30|     ATL|       20|       -2.4|     74.1|              169|             -202|\n",
      "|202110804|   8|     MIA|       17|     BUF|       41|      -22.9|     76.4|             1032|            -1592|\n",
      "|202110806|   8|      SF|       52|     CHI|       35|        9.9|     63.0|             -325|              271|\n",
      "|202110808|   8|     PIT|       24|     CLE|       16|       -8.7|     67.8|              282|             -344|\n",
      "|202110811|   8|     PHI|       69|     DET|       15|        8.7|     76.4|             -274|              232|\n",
      "|202110814|   8|     TEN|       54|     IND|       49|       -4.7|     80.4|              206|             -244|\n",
      "|202110824|   8|     CIN|       49|     NYJ|       54|       18.1|     67.8|             -895|              662|\n",
      "+---------+----+--------+---------+--------+---------+-----------+---------+-----------------+-----------------+\n",
      "only showing top 20 rows\n",
      "\n"
     ]
    }
   ],
   "source": [
    "games_df.show()"
   ]
  },
  {
   "cell_type": "code",
   "execution_count": 17,
   "metadata": {
    "collapsed": true,
    "jupyter": {
     "outputs_hidden": true
    }
   },
   "outputs": [],
   "source": [
    "games_df \\\n",
    "        .write \\\n",
    "        .parquet(\"/tmp/games\")"
   ]
  },
  {
   "cell_type": "code",
   "execution_count": 51,
   "metadata": {},
   "outputs": [
    {
     "name": "stdout",
     "output_type": "stream",
     "text": [
      "+---------+----+--------+---------+--------+---------+-----------+---------+-----------------+-----------------+\n",
      "|  GameKey|Week|AwayTeam|AwayScore|HomeTeam|HomeScore|PointSpread|OverUnder|AwayTeamMoneyLine|HomeTeamMoneyLine|\n",
      "+---------+----+--------+---------+--------+---------+-----------+---------+-----------------+-----------------+\n",
      "|202110802|   8|     CAR|       30|     ATL|       20|       -2.4|     74.1|              169|             -202|\n",
      "|202110804|   8|     MIA|       17|     BUF|       41|      -22.9|     76.4|             1032|            -1592|\n",
      "|202110806|   8|      SF|       52|     CHI|       35|        9.9|     63.0|             -325|              271|\n",
      "|202110808|   8|     PIT|       24|     CLE|       16|       -8.7|     67.8|              282|             -344|\n",
      "|202110811|   8|     PHI|       69|     DET|       15|        8.7|     76.4|             -274|              232|\n",
      "|202110814|   8|     TEN|       54|     IND|       49|       -4.7|     80.4|              206|             -244|\n",
      "|202110824|   8|     CIN|       49|     NYJ|       54|       18.1|     67.8|             -895|              662|\n",
      "|202110813|   8|     LAR|       60|     HOU|       35|       26.0|     74.1|            -2060|             1266|\n",
      "|202110829|   8|      NE|       43|     LAC|       38|       -6.3|     79.6|              244|             -293|\n",
      "|202110830|   8|     JAX|       11|     SEA|       49|       -6.3|     69.3|              258|             -307|\n",
      "|202110810|   8|     WAS|       16|     DEN|       27|       -6.3|     70.9|              251|             -301|\n",
      "|202110822|   8|      TB|       43|      NO|       57|        9.9|     76.4|             -314|              263|\n",
      "|202110820|   8|     DAL|       32|     MIN|       25|       -7.1|     78.0|              282|             -339|\n",
      "|202110802|   8|     CAR|       30|     ATL|       20|       -2.4|     74.1|              169|             -202|\n",
      "|202110804|   8|     MIA|       17|     BUF|       41|      -22.9|     76.4|             1032|            -1592|\n",
      "|202110806|   8|      SF|       52|     CHI|       35|        9.9|     63.0|             -325|              271|\n",
      "|202110808|   8|     PIT|       24|     CLE|       16|       -8.7|     67.8|              282|             -344|\n",
      "|202110811|   8|     PHI|       69|     DET|       15|        8.7|     76.4|             -274|              232|\n",
      "|202110814|   8|     TEN|       54|     IND|       49|       -4.7|     80.4|              206|             -244|\n",
      "|202110824|   8|     CIN|       49|     NYJ|       54|       18.1|     67.8|             -895|              662|\n",
      "+---------+----+--------+---------+--------+---------+-----------+---------+-----------------+-----------------+\n",
      "only showing top 20 rows\n",
      "\n"
     ]
    }
   ],
   "source": [
    "# Read from parquet to ensure that it worked\n",
    "read_table = spark.read.parquet('/tmp/games')\n",
    "read_table.show()"
   ]
  },
  {
   "cell_type": "code",
   "execution_count": null,
   "metadata": {
    "collapsed": true
   },
   "outputs": [],
   "source": []
  }
 ],
 "metadata": {
  "environment": {
   "name": "tf2-gpu.2-3.m78",
   "type": "gcloud",
   "uri": "gcr.io/deeplearning-platform-release/tf2-gpu.2-3:m78"
  },
  "kernelspec": {
   "display_name": "Python 3",
   "language": "python",
   "name": "python3"
  },
  "language_info": {
   "codemirror_mode": {
    "name": "ipython",
    "version": 3
   },
   "file_extension": ".py",
   "mimetype": "text/x-python",
   "name": "python",
   "nbconvert_exporter": "python",
   "pygments_lexer": "ipython3",
   "version": "3.6.1"
  }
 },
 "nbformat": 4,
 "nbformat_minor": 4
}
