{
 "cells": [
  {
   "cell_type": "code",
   "execution_count": 1,
   "id": "f2b47cf5",
   "metadata": {},
   "outputs": [],
   "source": [
    "import requests"
   ]
  },
  {
   "cell_type": "code",
   "execution_count": 5,
   "id": "73f36644",
   "metadata": {},
   "outputs": [],
   "source": [
    "my_headers = {'Ocp-Apim-Subscription-Key' : 'c1a67aa2c0454422923a280f26415860'}"
   ]
  },
  {
   "cell_type": "code",
   "execution_count": 6,
   "id": "e27fa8b0",
   "metadata": {},
   "outputs": [],
   "source": [
    "response = requests.get('https://api.sportsdata.io/v3/nfl/scores/json/News', headers=my_headers)"
   ]
  },
  {
   "cell_type": "code",
   "execution_count": 7,
   "id": "d8e4769a",
   "metadata": {},
   "outputs": [
    {
     "name": "stdout",
     "output_type": "stream",
     "text": [
      "200\n"
     ]
    }
   ],
   "source": [
    "print(response.status_code)"
   ]
  },
  {
   "cell_type": "code",
   "execution_count": 8,
   "id": "a7859535",
   "metadata": {},
   "outputs": [
    {
     "name": "stdout",
     "output_type": "stream",
     "text": [
      "[{'NewsID': 135200, 'Source': 'RotoBaller', 'Updated': '2021-11-02T11:57:31', 'TimeAgo': '9 hours ago', 'Title': 'Daniel Jones Comes Up Short In Loss to Chiefs', 'Content': \"New York Giants quarterback Daniel  Jones completed 22-of-32 passes for 222 yards, two touchdowns, and an interception in Monday night's 20-17 loss to the Kansas City Chiefs. He also rushed five times for 12 yards. The 24-year-old threw a costly interception on his first passing attempt from the Giants' own 22-yard line. Jones was able to shake the interception off and fired touchdown strikes to tight ends, Evan  Engram and Kyle  Rudolph. The former first-round pick has thrown for multiple scores just twice over eight games this season. He's thrown for 1,949 yards and a 7:5 TD: INT ratio while rushing for 241 yards and two scores this season. Jones is a mid-range QB2 in a plus matchup against the Las Vegas Raiders in Week 9.\", 'Url': 'https://www.rotoballer.com/player-news/daniel-jones-comes-up-short-in-loss-to-chiefs/955822', 'TermsOfUse': \"RotoBaller Premium News feeds are provided for commercial use and in accordance to the terms set forth within your SportsDataIO's commercial agreement. Please contact sales@sportsdata.io with any questions.\", 'Author': 'Staff', 'Categories': '', 'PlayerID': 20841, 'TeamID': 23, 'Team': 'NYG', 'PlayerID2': None, 'TeamID2': None, 'Team2': None, 'OriginalSource': 'NFL', 'OriginalSourceUrl': 'https://www.nfl.com/games/giants-at-chiefs-2021-reg-8?active-tab=watch'}, {'NewsID': 135126, 'Source': 'RotoBaller', 'Updated': '2021-11-01T09:34:50', 'TimeAgo': 'yesterday', 'Title': 'Geoff Swaim Catches Touchdown in OT Win Over Colts', 'Content': \"Tennessee Titans tight end Geoff  Swaim caught 4-of-5 targets for 23 yards and a touchdown in Sunday's 34-31 overtime win over the Indianapolis Colts. QB Ryan  Tannehill connected with Swaim for a six-yard touchdown strike to put the Titans on the board 14-7. The 28-year-old is the Titans' primary blocking tight end and logged 53 snaps (77.9%) in Sunday's win. On Sunday, Swaim caught a season-high four passes and is a touchdown-dependent option against the Los Angeles Rams in Week 9.\", 'Url': 'https://www.rotoballer.com/player-news/geoff-swaim-catches-touchdown-in-ot-win-over-colts/955308', 'TermsOfUse': \"RotoBaller Premium News feeds are provided for commercial use and in accordance to the terms set forth within your SportsDataIO's commercial agreement. Please contact sales@sportsdata.io with any questions.\", 'Author': 'Staff', 'Categories': '', 'PlayerID': 17005, 'TeamID': 34, 'Team': 'TEN', 'PlayerID2': None, 'TeamID2': None, 'Team2': None, 'OriginalSource': 'NFL', 'OriginalSourceUrl': 'https://www.nfl.com/games/titans-at-colts-2021-reg-8?active-tab=watch'}, {'NewsID': 134978, 'Source': 'RotoBaller', 'Updated': '2021-10-31T22:00:59', 'TimeAgo': 'yesterday', 'Title': \"Jared Goff's Season Keeps Getting Worse\", 'Content': \"Detroit Lions quarterback Jared  Goff completed 25-of-34 passes for 222 yards in the Lions blowout loss to the Eagles 44-6 in Week 8. The Lions offense simply cannot stretch the field and a missed field goal early dampened the unit's spirits early. To be fair, the Lions trot out the worst wide receivers group in the NFL. But Goff has failed to elevate the play of others around him and is trending in the wrong direction. He can be dropped in standard formats and two-quarterback leagues must look for other options besides Goff moving forward.\", 'Url': 'https://www.rotoballer.com/player-news/jared-goffs-season-getting-worse/955009', 'TermsOfUse': \"RotoBaller Premium News feeds are provided for commercial use and in accordance to the terms set forth within your SportsDataIO's commercial agreement. Please contact sales@sportsdata.io with any questions.\", 'Author': 'Staff', 'Categories': 'Fallers, Waivers', 'PlayerID': 17922, 'TeamID': 11, 'Team': 'DET', 'PlayerID2': None, 'TeamID2': None, 'Team2': None, 'OriginalSource': 'Detroit Lions', 'OriginalSourceUrl': 'https://www.nfl.com/games/eagles-at-lions-2021-reg-8?active-tab=watch'}]\n"
     ]
    }
   ],
   "source": [
    "print(response.json())"
   ]
  },
  {
   "cell_type": "code",
   "execution_count": null,
   "id": "45f880ef",
   "metadata": {},
   "outputs": [],
   "source": []
  }
 ],
 "metadata": {
  "environment": {
   "name": "common-cpu.m78",
   "type": "gcloud",
   "uri": "gcr.io/deeplearning-platform-release/base-cpu:m78"
  },
  "kernelspec": {
   "display_name": "Python 3",
   "language": "python",
   "name": "python3"
  },
  "language_info": {
   "codemirror_mode": {
    "name": "ipython",
    "version": 3
   },
   "file_extension": ".py",
   "mimetype": "text/x-python",
   "name": "python",
   "nbconvert_exporter": "python",
   "pygments_lexer": "ipython3",
   "version": "3.7.10"
  }
 },
 "nbformat": 4,
 "nbformat_minor": 5
}
