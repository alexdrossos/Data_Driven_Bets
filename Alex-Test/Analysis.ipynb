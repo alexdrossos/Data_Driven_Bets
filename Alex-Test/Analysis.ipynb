{
 "cells": [
  {
   "cell_type": "code",
   "execution_count": 1,
   "metadata": {
    "collapsed": true,
    "jupyter": {
     "outputs_hidden": true
    }
   },
   "outputs": [],
   "source": [
    "from pyspark.sql.functions import from_json, col\n",
    "import json\n",
    "import pandas as pd\n",
    "from pyspark.sql.functions import explode, split\n",
    "from pyspark.sql.types import StructType, StructField, StringType, IntegerType, TimestampType, ArrayType, FloatType\n",
    "import warnings\n",
    "from pyspark.sql.functions import size\n",
    "from pyspark.sql.functions import regexp_replace"
   ]
  },
  {
   "cell_type": "markdown",
   "metadata": {},
   "source": [
    "### Pull in live game update data - DO NOT RE-RUN THIS SECTION"
   ]
  },
  {
   "cell_type": "code",
   "execution_count": 2,
   "metadata": {
    "jupyter": {
     "outputs_hidden": true
    }
   },
   "outputs": [
    {
     "data": {
      "text/plain": [
       "DataFrame[]"
      ]
     },
     "execution_count": 2,
     "metadata": {},
     "output_type": "execute_result"
    }
   ],
   "source": [
    "df = spark.read.parquet('/tmp/games')\n",
    "df.registerTempTable('games')\n",
    "query = \"\"\"\n",
    "create external table my_games\n",
    "  stored as parquet\n",
    "  location '/tmp/games_out'\n",
    "  as\n",
    "  select * from games\n",
    "\"\"\"\n",
    "spark.sql(query)"
   ]
  },
  {
   "cell_type": "code",
   "execution_count": 3,
   "metadata": {
    "collapsed": true
   },
   "outputs": [],
   "source": [
    "games2 = spark.read.parquet('/tmp/games_out')"
   ]
  },
  {
   "cell_type": "code",
   "execution_count": 5,
   "metadata": {
    "collapsed": true
   },
   "outputs": [],
   "source": [
    "final_schema = StructType([\n",
    "        StructField('GameKey', StringType(), True),\n",
    "        StructField('Week', StringType(), True),\n",
    "        StructField('AwayTeam', StringType(), True),\n",
    "        StructField('AwayScore', IntegerType(), True),\n",
    "        StructField('HomeTeam', StringType(), True),\n",
    "        StructField('HomeScore', IntegerType(), True),\n",
    "        StructField('PointSpread', FloatType(), True),\n",
    "        StructField('OverUnder', FloatType(), True),\n",
    "        StructField('AwayTeamMoneyLine', IntegerType(), True),\n",
    "        StructField('HomeTeamMoneyLine', IntegerType(), True)])"
   ]
  },
  {
   "cell_type": "code",
   "execution_count": 6,
   "metadata": {},
   "outputs": [],
   "source": [
    "extracted_games2 = games2.rdd.map(lambda x: json.loads(x.value)).toDF(schema=final_schema)"
   ]
  },
  {
   "cell_type": "code",
   "execution_count": 7,
   "metadata": {},
   "outputs": [
    {
     "data": {
      "text/html": [
       "<div>\n",
       "<style>\n",
       "    .dataframe thead tr:only-child th {\n",
       "        text-align: right;\n",
       "    }\n",
       "\n",
       "    .dataframe thead th {\n",
       "        text-align: left;\n",
       "    }\n",
       "\n",
       "    .dataframe tbody tr th {\n",
       "        vertical-align: top;\n",
       "    }\n",
       "</style>\n",
       "<table border=\"1\" class=\"dataframe\">\n",
       "  <thead>\n",
       "    <tr style=\"text-align: right;\">\n",
       "      <th></th>\n",
       "      <th>GameKey</th>\n",
       "      <th>Week</th>\n",
       "      <th>AwayTeam</th>\n",
       "      <th>AwayScore</th>\n",
       "      <th>HomeTeam</th>\n",
       "      <th>HomeScore</th>\n",
       "      <th>PointSpread</th>\n",
       "      <th>OverUnder</th>\n",
       "      <th>AwayTeamMoneyLine</th>\n",
       "      <th>HomeTeamMoneyLine</th>\n",
       "    </tr>\n",
       "  </thead>\n",
       "  <tbody>\n",
       "    <tr>\n",
       "      <th>0</th>\n",
       "      <td>202111304</td>\n",
       "      <td>13</td>\n",
       "      <td>NE</td>\n",
       "      <td>1</td>\n",
       "      <td>BUF</td>\n",
       "      <td>1</td>\n",
       "      <td>-0.8</td>\n",
       "      <td>11.2</td>\n",
       "      <td>36</td>\n",
       "      <td>-42</td>\n",
       "    </tr>\n",
       "    <tr>\n",
       "      <th>1</th>\n",
       "      <td>202111304</td>\n",
       "      <td>13</td>\n",
       "      <td>NE</td>\n",
       "      <td>1</td>\n",
       "      <td>BUF</td>\n",
       "      <td>0</td>\n",
       "      <td>-0.8</td>\n",
       "      <td>11.2</td>\n",
       "      <td>36</td>\n",
       "      <td>-42</td>\n",
       "    </tr>\n",
       "    <tr>\n",
       "      <th>2</th>\n",
       "      <td>202111304</td>\n",
       "      <td>13</td>\n",
       "      <td>NE</td>\n",
       "      <td>0</td>\n",
       "      <td>BUF</td>\n",
       "      <td>0</td>\n",
       "      <td>-0.8</td>\n",
       "      <td>11.2</td>\n",
       "      <td>36</td>\n",
       "      <td>-42</td>\n",
       "    </tr>\n",
       "    <tr>\n",
       "      <th>3</th>\n",
       "      <td>202111304</td>\n",
       "      <td>13</td>\n",
       "      <td>NE</td>\n",
       "      <td>1</td>\n",
       "      <td>BUF</td>\n",
       "      <td>1</td>\n",
       "      <td>-0.8</td>\n",
       "      <td>11.2</td>\n",
       "      <td>36</td>\n",
       "      <td>-42</td>\n",
       "    </tr>\n",
       "    <tr>\n",
       "      <th>4</th>\n",
       "      <td>202111304</td>\n",
       "      <td>13</td>\n",
       "      <td>NE</td>\n",
       "      <td>1</td>\n",
       "      <td>BUF</td>\n",
       "      <td>1</td>\n",
       "      <td>-0.8</td>\n",
       "      <td>11.2</td>\n",
       "      <td>36</td>\n",
       "      <td>-42</td>\n",
       "    </tr>\n",
       "    <tr>\n",
       "      <th>5</th>\n",
       "      <td>202111304</td>\n",
       "      <td>13</td>\n",
       "      <td>NE</td>\n",
       "      <td>1</td>\n",
       "      <td>BUF</td>\n",
       "      <td>1</td>\n",
       "      <td>-0.8</td>\n",
       "      <td>11.2</td>\n",
       "      <td>36</td>\n",
       "      <td>-42</td>\n",
       "    </tr>\n",
       "    <tr>\n",
       "      <th>6</th>\n",
       "      <td>202111304</td>\n",
       "      <td>13</td>\n",
       "      <td>NE</td>\n",
       "      <td>1</td>\n",
       "      <td>BUF</td>\n",
       "      <td>1</td>\n",
       "      <td>-0.8</td>\n",
       "      <td>11.2</td>\n",
       "      <td>36</td>\n",
       "      <td>-42</td>\n",
       "    </tr>\n",
       "    <tr>\n",
       "      <th>7</th>\n",
       "      <td>202111304</td>\n",
       "      <td>13</td>\n",
       "      <td>NE</td>\n",
       "      <td>0</td>\n",
       "      <td>BUF</td>\n",
       "      <td>0</td>\n",
       "      <td>-0.8</td>\n",
       "      <td>11.2</td>\n",
       "      <td>36</td>\n",
       "      <td>-42</td>\n",
       "    </tr>\n",
       "    <tr>\n",
       "      <th>8</th>\n",
       "      <td>202111304</td>\n",
       "      <td>13</td>\n",
       "      <td>NE</td>\n",
       "      <td>0</td>\n",
       "      <td>BUF</td>\n",
       "      <td>0</td>\n",
       "      <td>-0.8</td>\n",
       "      <td>11.2</td>\n",
       "      <td>36</td>\n",
       "      <td>-42</td>\n",
       "    </tr>\n",
       "    <tr>\n",
       "      <th>9</th>\n",
       "      <td>202111304</td>\n",
       "      <td>13</td>\n",
       "      <td>NE</td>\n",
       "      <td>1</td>\n",
       "      <td>BUF</td>\n",
       "      <td>1</td>\n",
       "      <td>-0.8</td>\n",
       "      <td>11.2</td>\n",
       "      <td>36</td>\n",
       "      <td>-42</td>\n",
       "    </tr>\n",
       "  </tbody>\n",
       "</table>\n",
       "</div>"
      ],
      "text/plain": [
       "     GameKey Week AwayTeam  AwayScore HomeTeam  HomeScore  PointSpread  \\\n",
       "0  202111304   13       NE          1      BUF          1         -0.8   \n",
       "1  202111304   13       NE          1      BUF          0         -0.8   \n",
       "2  202111304   13       NE          0      BUF          0         -0.8   \n",
       "3  202111304   13       NE          1      BUF          1         -0.8   \n",
       "4  202111304   13       NE          1      BUF          1         -0.8   \n",
       "5  202111304   13       NE          1      BUF          1         -0.8   \n",
       "6  202111304   13       NE          1      BUF          1         -0.8   \n",
       "7  202111304   13       NE          0      BUF          0         -0.8   \n",
       "8  202111304   13       NE          0      BUF          0         -0.8   \n",
       "9  202111304   13       NE          1      BUF          1         -0.8   \n",
       "\n",
       "   OverUnder  AwayTeamMoneyLine  HomeTeamMoneyLine  \n",
       "0       11.2                 36                -42  \n",
       "1       11.2                 36                -42  \n",
       "2       11.2                 36                -42  \n",
       "3       11.2                 36                -42  \n",
       "4       11.2                 36                -42  \n",
       "5       11.2                 36                -42  \n",
       "6       11.2                 36                -42  \n",
       "7       11.2                 36                -42  \n",
       "8       11.2                 36                -42  \n",
       "9       11.2                 36                -42  "
      ]
     },
     "execution_count": 7,
     "metadata": {},
     "output_type": "execute_result"
    }
   ],
   "source": [
    "pd_games_stream = extracted_games2.toPandas()\n",
    "pd_games_stream"
   ]
  },
  {
   "cell_type": "markdown",
   "metadata": {},
   "source": [
    "##### Business Question: Is the current score covering the point spread?"
   ]
  },
  {
   "cell_type": "code",
   "execution_count": 14,
   "metadata": {},
   "outputs": [
    {
     "data": {
      "text/plain": [
       "True"
      ]
     },
     "execution_count": 14,
     "metadata": {},
     "output_type": "execute_result"
    }
   ],
   "source": [
    "sep = pd_games_stream['AwayScore'].max() - pd_games_stream['HomeScore'].max()\n",
    "answer = sep > pd_games_stream['PointSpread'].max()\n",
    "answer"
   ]
  },
  {
   "cell_type": "markdown",
   "metadata": {},
   "source": [
    "##### Business Question: With the current score, have I hit the over?"
   ]
  },
  {
   "cell_type": "code",
   "execution_count": 15,
   "metadata": {},
   "outputs": [
    {
     "data": {
      "text/plain": [
       "False"
      ]
     },
     "execution_count": 15,
     "metadata": {},
     "output_type": "execute_result"
    }
   ],
   "source": [
    "total_score = pd_games_stream['AwayScore'].max() + pd_games_stream['HomeScore'].max()\n",
    "answer2 = total_score > pd_games_stream['OverUnder'].max()\n",
    "answer2"
   ]
  },
  {
   "cell_type": "markdown",
   "metadata": {},
   "source": [
    "### Pull in historical batch data"
   ]
  },
  {
   "cell_type": "code",
   "execution_count": 8,
   "metadata": {},
   "outputs": [
    {
     "data": {
      "text/plain": [
       "DataFrame[]"
      ]
     },
     "execution_count": 8,
     "metadata": {},
     "output_type": "execute_result"
    }
   ],
   "source": [
    "batch_df = spark.read.parquet('/tmp/season')\n",
    "batch_df.registerTempTable('season')\n",
    "batch_query = \"\"\"\n",
    "create external table my_season\n",
    "  stored as parquet\n",
    "  location '/tmp/season_out'\n",
    "  as\n",
    "  select * from season\n",
    "\"\"\"\n",
    "spark.sql(batch_query)"
   ]
  },
  {
   "cell_type": "code",
   "execution_count": 9,
   "metadata": {
    "collapsed": true
   },
   "outputs": [],
   "source": [
    "season = spark.read.parquet('/tmp/season_out')"
   ]
  },
  {
   "cell_type": "code",
   "execution_count": null,
   "metadata": {
    "collapsed": true
   },
   "outputs": [],
   "source": []
  }
 ],
 "metadata": {
  "environment": {
   "name": "common-cpu.m78",
   "type": "gcloud",
   "uri": "gcr.io/deeplearning-platform-release/base-cpu:m78"
  },
  "kernelspec": {
   "display_name": "Python 3",
   "language": "python",
   "name": "python3"
  },
  "language_info": {
   "codemirror_mode": {
    "name": "ipython",
    "version": 3
   },
   "file_extension": ".py",
   "mimetype": "text/x-python",
   "name": "python",
   "nbconvert_exporter": "python",
   "pygments_lexer": "ipython3",
   "version": "3.6.1"
  }
 },
 "nbformat": 4,
 "nbformat_minor": 4
}
