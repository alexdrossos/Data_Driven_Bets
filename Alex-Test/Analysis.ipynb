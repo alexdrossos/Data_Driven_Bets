{
 "cells": [
  {
   "cell_type": "code",
   "execution_count": 8,
   "metadata": {
    "collapsed": true,
    "jupyter": {
     "outputs_hidden": true
    }
   },
   "outputs": [],
   "source": [
    "from pyspark.sql.functions import from_json, col\n",
    "import json\n",
    "import pandas as pd\n",
    "from pyspark.sql.functions import explode, split\n",
    "from pyspark.sql.types import StructType, StructField, StringType, IntegerType, TimestampType, ArrayType, FloatType\n",
    "import warnings\n",
    "from pyspark.sql.functions import size\n",
    "from pyspark.sql.functions import regexp_replace"
   ]
  },
  {
   "cell_type": "markdown",
   "metadata": {},
   "source": [
    "### Pull in live game update data - DO NOT RE-RUN THIS SECTION"
   ]
  },
  {
   "cell_type": "code",
   "execution_count": 15,
   "metadata": {
    "jupyter": {
     "outputs_hidden": true
    }
   },
   "outputs": [
    {
     "data": {
      "text/plain": [
       "DataFrame[]"
      ]
     },
     "execution_count": 15,
     "metadata": {},
     "output_type": "execute_result"
    }
   ],
   "source": [
    "df = spark.read.parquet('/tmp/games')\n",
    "df.registerTempTable('games')\n",
    "query = \"\"\"\n",
    "create external table my_games\n",
    "  stored as parquet\n",
    "  location '/tmp/games_out'\n",
    "  as\n",
    "  select * from games\n",
    "\"\"\"\n",
    "spark.sql(query)"
   ]
  },
  {
   "cell_type": "code",
   "execution_count": 16,
   "metadata": {
    "collapsed": true
   },
   "outputs": [],
   "source": [
    "games2 = spark.read.parquet('/tmp/games_out')"
   ]
  },
  {
   "cell_type": "code",
   "execution_count": 18,
   "metadata": {
    "collapsed": true
   },
   "outputs": [],
   "source": [
    "extracted_games2 = games2.rdd.map(lambda x: json.loads(x.value)).toDF(schema=final_schema)"
   ]
  },
  {
   "cell_type": "code",
   "execution_count": 19,
   "metadata": {},
   "outputs": [
    {
     "data": {
      "text/html": [
       "<div>\n",
       "<style>\n",
       "    .dataframe thead tr:only-child th {\n",
       "        text-align: right;\n",
       "    }\n",
       "\n",
       "    .dataframe thead th {\n",
       "        text-align: left;\n",
       "    }\n",
       "\n",
       "    .dataframe tbody tr th {\n",
       "        vertical-align: top;\n",
       "    }\n",
       "</style>\n",
       "<table border=\"1\" class=\"dataframe\">\n",
       "  <thead>\n",
       "    <tr style=\"text-align: right;\">\n",
       "      <th></th>\n",
       "      <th>GameKey</th>\n",
       "      <th>Week</th>\n",
       "      <th>AwayTeam</th>\n",
       "      <th>AwayScore</th>\n",
       "      <th>HomeTeam</th>\n",
       "      <th>HomeScore</th>\n",
       "      <th>PointSpread</th>\n",
       "      <th>OverUnder</th>\n",
       "      <th>AwayTeamMoneyLine</th>\n",
       "      <th>HomeTeamMoneyLine</th>\n",
       "    </tr>\n",
       "  </thead>\n",
       "  <tbody>\n",
       "    <tr>\n",
       "      <th>0</th>\n",
       "      <td>202111304</td>\n",
       "      <td>13</td>\n",
       "      <td>NE</td>\n",
       "      <td>None</td>\n",
       "      <td>BUF</td>\n",
       "      <td>None</td>\n",
       "      <td>-0.8</td>\n",
       "      <td>11.3</td>\n",
       "      <td>36</td>\n",
       "      <td>-43</td>\n",
       "    </tr>\n",
       "    <tr>\n",
       "      <th>1</th>\n",
       "      <td>202111304</td>\n",
       "      <td>13</td>\n",
       "      <td>NE</td>\n",
       "      <td>None</td>\n",
       "      <td>BUF</td>\n",
       "      <td>None</td>\n",
       "      <td>-0.8</td>\n",
       "      <td>11.3</td>\n",
       "      <td>36</td>\n",
       "      <td>-43</td>\n",
       "    </tr>\n",
       "  </tbody>\n",
       "</table>\n",
       "</div>"
      ],
      "text/plain": [
       "     GameKey Week AwayTeam AwayScore HomeTeam HomeScore  PointSpread  \\\n",
       "0  202111304   13       NE      None      BUF      None         -0.8   \n",
       "1  202111304   13       NE      None      BUF      None         -0.8   \n",
       "\n",
       "   OverUnder  AwayTeamMoneyLine  HomeTeamMoneyLine  \n",
       "0       11.3                 36                -43  \n",
       "1       11.3                 36                -43  "
      ]
     },
     "execution_count": 19,
     "metadata": {},
     "output_type": "execute_result"
    }
   ],
   "source": [
    "pd_games_stream = extracted_games2.toPandas()\n",
    "pd_games_stream"
   ]
  },
  {
   "cell_type": "markdown",
   "metadata": {},
   "source": [
    "### Pull in historical batch data"
   ]
  },
  {
   "cell_type": "code",
   "execution_count": null,
   "metadata": {
    "collapsed": true
   },
   "outputs": [],
   "source": []
  }
 ],
 "metadata": {
  "environment": {
   "name": "common-cpu.m78",
   "type": "gcloud",
   "uri": "gcr.io/deeplearning-platform-release/base-cpu:m78"
  },
  "kernelspec": {
   "display_name": "Python 3",
   "language": "python",
   "name": "python3"
  },
  "language_info": {
   "codemirror_mode": {
    "name": "ipython",
    "version": 3
   },
   "file_extension": ".py",
   "mimetype": "text/x-python",
   "name": "python",
   "nbconvert_exporter": "python",
   "pygments_lexer": "ipython3",
   "version": "3.6.1"
  }
 },
 "nbformat": 4,
 "nbformat_minor": 4
}
