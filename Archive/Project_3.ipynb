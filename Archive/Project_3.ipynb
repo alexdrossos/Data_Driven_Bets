{
 "cells": [
  {
   "cell_type": "markdown",
   "id": "a9280d3f",
   "metadata": {},
   "source": [
    "### Project 3: "
   ]
  },
  {
   "cell_type": "code",
   "execution_count": null,
   "id": "6a996a5d",
   "metadata": {},
   "outputs": [],
   "source": [
    "!pip install pyhive"
   ]
  },
  {
   "cell_type": "code",
   "execution_count": null,
   "id": "9534bbdc",
   "metadata": {},
   "outputs": [],
   "source": [
    "from pyhive import presto\n",
    "import pandas as pd"
   ]
  },
  {
   "cell_type": "markdown",
   "id": "18d09011",
   "metadata": {},
   "source": [
    "Configure presto connection:"
   ]
  },
  {
   "cell_type": "code",
   "execution_count": null,
   "id": "0c38bfe6",
   "metadata": {},
   "outputs": [],
   "source": [
    "presto_connect = presto.connect(host = 'presto',\n",
    "                               port = 8080,\n",
    "                               catalog = 'hive',\n",
    "                               schema = 'default')"
   ]
  },
  {
   "cell_type": "markdown",
   "id": "d93f195f",
   "metadata": {},
   "source": [
    "#### If I'm considering betting on the 49'ers, could the app tell me the spread, over under, and money line?"
   ]
  },
  {
   "cell_type": "code",
   "execution_count": null,
   "id": "71dbd7b5",
   "metadata": {},
   "outputs": [],
   "source": [
    "query = '''\n",
    "SELECT awayteam,\n",
    "hometeam,\n",
    "pointspread,\n",
    "overunder,\n",
    "awayteammoneyline,\n",
    "hometeammoneyline\n",
    "FROM the_games\n",
    "WHERE (awayteam = \"SF\") or (hometeam = \"SF\")\n",
    ";\n",
    "'''\n",
    "\n",
    "df = pd.read_sql_query(query, presto_connect)\n",
    "display(df)"
   ]
  },
  {
   "cell_type": "markdown",
   "id": "85310b1c",
   "metadata": {},
   "source": [
    "#### If I'm reviewing all teams' performance compared to what the spread predictions were, can the app let me know a list of the final scores, spread predictions, and delta ordered from biggest difference to smallest?"
   ]
  },
  {
   "cell_type": "code",
   "execution_count": null,
   "id": "23cf5b85",
   "metadata": {},
   "outputs": [],
   "source": [
    "query = '''\n",
    "SELECT awayteam,\n",
    "awayscore,\n",
    "hometeam,\n",
    "homescore,\n",
    "pointspread,\n",
    "(awayscore - homescore) as score_diff,\n",
    "abs(score_diff-pointspread) as delta\n",
    "FROM the_games\n",
    "ORDER BY delta DESC\n",
    ";\n",
    "'''\n",
    "\n",
    "df = pd.read_sql_query(query, presto_connect)\n",
    "display(df)"
   ]
  },
  {
   "cell_type": "markdown",
   "id": "e05963eb",
   "metadata": {},
   "source": [
    "#### Given a bettor's team (ex. 49'ers) and spread, can the app let me know what the game score is and how far above or below the score the spread is?"
   ]
  },
  {
   "cell_type": "code",
   "execution_count": null,
   "id": "5a72d66e",
   "metadata": {},
   "outputs": [],
   "source": [
    "query = '''\n",
    "SELECT awayteam,\n",
    "awayscore,\n",
    "hometeam,\n",
    "homescore,\n",
    "(awayscore - homescore) as score_diff,\n",
    "score_diff-pointspread as diff_from_spread\n",
    "FROM the_games\n",
    "WHERE (awayteam = \"SF\") or (hometeam = \"SF\")\n",
    ";\n",
    "'''\n",
    "\n",
    "df = pd.read_sql_query(query, presto_connect)\n",
    "display(df)"
   ]
  },
  {
   "cell_type": "markdown",
   "id": "cdf9aa95",
   "metadata": {},
   "source": [
    "#### Can the app analyze the biggest upsets based on money line for all teams for a given week?"
   ]
  },
  {
   "cell_type": "code",
   "execution_count": null,
   "id": "a1d4f36e",
   "metadata": {},
   "outputs": [],
   "source": [
    "query = '''\n",
    "SELECT awayteam,\n",
    "awayscore,\n",
    "hometeam,\n",
    "homescore,\n",
    "(awayscore - homescore) as score_diff,\n",
    "FROM (SELECT *, \n",
    "        CASE\n",
    "            WHEN SIGN(awayscore - homescore) = SIGN(hometeammoneyline - awayteammoneyline) THEN 1\n",
    "            ELSE 0\n",
    "        END as upset_ind\n",
    "        FROM the_games)\n",
    "WHERE upset_ind = 1\n",
    "ORDER BY abs(hometeammoneyline - awayteammoneyline) DESC\n",
    ";\n",
    "'''\n",
    "\n",
    "df = pd.read_sql_query(query, presto_connect)\n",
    "display(df)"
   ]
  }
 ],
 "metadata": {
  "environment": {
   "name": "tf2-gpu.2-1.m78",
   "type": "gcloud",
   "uri": "gcr.io/deeplearning-platform-release/tf2-gpu.2-1:m78"
  },
  "kernelspec": {
   "display_name": "Python 3",
   "language": "python",
   "name": "python3"
  },
  "language_info": {
   "codemirror_mode": {
    "name": "ipython",
    "version": 3
   },
   "file_extension": ".py",
   "mimetype": "text/x-python",
   "name": "python",
   "nbconvert_exporter": "python",
   "pygments_lexer": "ipython3",
   "version": "3.7.10"
  }
 },
 "nbformat": 4,
 "nbformat_minor": 5
}
